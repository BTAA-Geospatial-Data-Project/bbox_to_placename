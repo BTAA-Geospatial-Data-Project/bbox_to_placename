{
 "cells": [
  {
   "cell_type": "markdown",
   "metadata": {},
   "source": [
    "# Converting County GeoJSON into Regular Bounding Box"
   ]
  },
  {
   "cell_type": "markdown",
   "metadata": {},
   "source": [
    "## Part 1: Introduction"
   ]
  },
  {
   "cell_type": "markdown",
   "metadata": {},
   "source": [
    "This Jupyter Notebook is intended to create county bounding box based on county GeoJSON/Shapefile."
   ]
  },
  {
   "cell_type": "markdown",
   "metadata": {},
   "source": [
    "## Part 2: Preparation"
   ]
  },
  {
   "cell_type": "markdown",
   "metadata": {},
   "source": [
    "We will be using **Jupyter Notebook(anaconda 3)** to edit and run the script. Information on Anaconda installation can be found <a href='https://docs.anaconda.com/anaconda/install/'>here</a>. Please note that this script is running on Python 3.\n",
    "\n",
    "***Usually, You can download county boundary GeoJSON file from state data portal, which typically is ArcGIS Hub.***\n",
    "\n",
    "To run this script you need:\n",
    "- county GeoJSON/Shapefile stored in **state** folder\n",
    "- directory path (**geojson** folder > **state** folder)\n",
    "\n",
    "The script currently prints one GeoJSON file:\n",
    "- **state_County_bbox.json**\n",
    "\n",
    ">Original created on Jan 31 2021<br>\n",
    "@author: Yijing Zhou @YijingZhou33"
   ]
  },
  {
   "cell_type": "markdown",
   "metadata": {},
   "source": [
    "## Part 3: Get Started"
   ]
  },
  {
   "cell_type": "markdown",
   "metadata": {},
   "source": [
    "###  Step 1: Import modules"
   ]
  },
  {
   "cell_type": "code",
   "execution_count": null,
   "metadata": {},
   "outputs": [],
   "source": [
    "import pandas as pd\n",
    "import os\n",
    "import geopandas as gpd\n",
    "import json\n",
    "from itertools import chain\n",
    "import string\n",
    "import folium"
   ]
  },
  {
   "cell_type": "markdown",
   "metadata": {},
   "source": [
    "### Step 2: Manual items to change"
   ]
  },
  {
   "cell_type": "code",
   "execution_count": null,
   "metadata": {},
   "outputs": [],
   "source": [
    "state = 'Minnesota'\n",
    "\n",
    "###### Rawdata is Shapefile ######\n",
    "rawdata = 'shp_bdry_mcdistricts_2013'\n",
    "\n",
    "###### Rawdata is GeoJSON ######\n",
    "# rawdata = 'Maryland_Physical_Boundaries_-_County_Boundaries__Detailed_'\n",
    "\n",
    "output = os.path.join('geojson', state, state + '_County_bbox.json')"
   ]
  },
  {
   "cell_type": "markdown",
   "metadata": {},
   "source": [
    "## Part 4: Build up county GeoJSON schema"
   ]
  },
  {
   "cell_type": "markdown",
   "metadata": {},
   "source": [
    "###  Step 3: Convert GeoJSON/Shapefile to JSON"
   ]
  },
  {
   "cell_type": "code",
   "execution_count": null,
   "metadata": {},
   "outputs": [],
   "source": [
    "def conversion(inputfile):\n",
    "    ## convert file to json \n",
    "    inputfile = json.loads(inputfile.to_json())\n",
    "    ## display features properties as dataframe\n",
    "    df = pd.json_normalize(inputfile['features'])\n",
    "    return df\n",
    "\n",
    "###### Rawdata is Shapefile ######\n",
    "\n",
    "# **************** uncomment **********************\n",
    "shp = os.path.join('geojson', state, rawdata)\n",
    "county_shp = gpd.read_file(shp, driver = 'shapefile').to_crs('EPSG:4326')\n",
    "df = conversion(county_shp)\n",
    "# *************************************************\n",
    "\n",
    "###### Rawdata is GeoJSON ######\n",
    "\n",
    "# **************** uncomment **********************\n",
    "# geojson = os.path.join('geojson', state, rawdata + '.geojson')\n",
    "# county_geojson = gpd.read_file(geojson).to_crs('EPSG:4326')\n",
    "# df = conversion(county_geojson)\n",
    "# *************************************************\n",
    "df"
   ]
  },
  {
   "cell_type": "markdown",
   "metadata": {},
   "source": [
    "### Step 4: Clean up and format columns"
   ]
  },
  {
   "cell_type": "code",
   "execution_count": null,
   "metadata": {},
   "outputs": [],
   "source": [
    "def rename(df):\n",
    "    ## possible county column names in the dataframe\n",
    "    clist = ['properties.COUNTY', 'properties.NAME', 'properties.COUNTY_NAM', 'properties.COUNTY_NAME', 'properties.CTY_NAME']\n",
    "    \n",
    "    if set(df.columns).intersection(set(clist)):\n",
    "        cname = ''.join(set(df.columns).intersection(set(clist)))\n",
    "    else:\n",
    "        cname = input('Please enter the column storing county names: ').strip()\n",
    "          \n",
    "    df = df[[cname, 'geometry.coordinates']].rename(\n",
    "            columns={cname:'County', 'geometry.coordinates':'boundingBox'})      \n",
    "    ## capitalize the first letter of each word in the county name\n",
    "    df['County'] = df['County'].apply(lambda row: string.capwords(row))\n",
    "    df['State'] = state\n",
    "    \n",
    "    return df\n",
    "\n",
    "df = rename(df)"
   ]
  },
  {
   "cell_type": "markdown",
   "metadata": {},
   "source": [
    "###  Step 5: Create bounding box"
   ]
  },
  {
   "cell_type": "code",
   "execution_count": null,
   "metadata": {},
   "outputs": [],
   "source": [
    "def bbox(points):\n",
    "    x_coordinates, y_coordinates = zip(*points)\n",
    "    return ','.join(str(x) for x in [min(x_coordinates), min(y_coordinates), max(x_coordinates), max(y_coordinates)])\n",
    "\n",
    "def coordinates_bbox(df):\n",
    "    for _, row in df.iterrows():\n",
    "        ## geometry is Polygon\n",
    "        if type(row['boundingBox'][0][0][0]) is float:\n",
    "            row['boundingBox'] = bbox(row['boundingBox'][0])\n",
    "        else:\n",
    "        ## geometry is Multipolygon\n",
    "            row['boundingBox'] = bbox(list(chain.from_iterable([l[0] for l in row['boundingBox']])))\n",
    "            \n",
    "coordinates_bbox(df)"
   ]
  },
  {
   "cell_type": "markdown",
   "metadata": {},
   "source": [
    "###  Step 6: Round coordinates to 2 decimal places"
   ]
  },
  {
   "cell_type": "code",
   "execution_count": null,
   "metadata": {},
   "outputs": [],
   "source": [
    "## create regular bouding box coordinate pairs and round them to 2 decimal places\n",
    "df = pd.concat([df, df['boundingBox'].str.split(',', expand=True).astype(float).round(2)], axis=1).rename(\n",
    "    columns={0:'minX', 1:'minY', 2:'maxX', 3:'maxY'})\n",
    "df['maxXmaxY'] = df.apply(lambda row: [row.maxX, row.maxY], axis = 1)\n",
    "df['maxXminY'] = df.apply(lambda row: [row.maxX, row.minY], axis = 1)\n",
    "df['minXminY'] = df.apply(lambda row: [row.minX, row.minY], axis = 1)\n",
    "df['minXmaxY'] = df.apply(lambda row: [row.minX, row.maxY], axis = 1)\n",
    "df['Coordinates'] = df[['maxXmaxY', 'maxXminY', 'minXminY', 'minXmaxY', 'maxXmaxY']].values.tolist()\n",
    "\n",
    "## clean up unnecessary columns\n",
    "df_clean = df.drop(columns =['minX', 'minY', 'maxX', 'maxY', 'maxXmaxY', 'maxXminY', 'minXminY', 'minXmaxY', 'boundingBox'])"
   ]
  },
  {
   "cell_type": "markdown",
   "metadata": {},
   "source": [
    "## Part 5: Create County GeoJSON"
   ]
  },
  {
   "cell_type": "markdown",
   "metadata": {},
   "source": [
    "###  Step 7: Create geojson features"
   ]
  },
  {
   "cell_type": "code",
   "execution_count": null,
   "metadata": {
    "scrolled": true
   },
   "outputs": [],
   "source": [
    "# create_geojson_features \n",
    "def create_geojson_features(df):\n",
    "    print('> Creating GeoJSON features...')\n",
    "    features = []\n",
    "    geojson = {\n",
    "        'type': 'FeatureCollection',\n",
    "        'features': features\n",
    "    }\n",
    "    for _, row in df.iterrows():\n",
    "        feature = {\n",
    "            'type': 'Feature',\n",
    "            'geometry': {\n",
    "                'type':'Polygon', \n",
    "                'coordinates':[row['Coordinates']]\n",
    "            },\n",
    "            'properties': {\n",
    "                'County': row['County'] + ' County',\n",
    "                'State': row['State']\n",
    "            }\n",
    "        }\n",
    "\n",
    "        features.append(feature)\n",
    "    return geojson\n",
    "\n",
    "data_geojson = create_geojson_features(df_clean)"
   ]
  },
  {
   "cell_type": "markdown",
   "metadata": {},
   "source": [
    "###  Step 8: Generate geojson file"
   ]
  },
  {
   "cell_type": "code",
   "execution_count": null,
   "metadata": {},
   "outputs": [],
   "source": [
    "with open(output, 'w') as txtfile:\n",
    "    json.dump(data_geojson, txtfile)\n",
    "print('> Creating GeoJSON file...')"
   ]
  },
  {
   "cell_type": "markdown",
   "metadata": {},
   "source": [
    "## Part 6: Inspect bounding box map"
   ]
  },
  {
   "cell_type": "code",
   "execution_count": null,
   "metadata": {},
   "outputs": [],
   "source": [
    "print('> Making map...')\n",
    "## change the location here to zoom to the center\n",
    "m = folium.Map(location = [42.3756, -93.6397], control_scale = True, zoom_start = 5)\n",
    "\n",
    "## check if the indexmap geojson files can be rendered properly\n",
    "folium.GeoJson(data_geojson, \n",
    "               tooltip = folium.GeoJsonTooltip(fields=('County', 'State'),\n",
    "               aliases=('County', 'State')),\n",
    "               show = True).add_to(m)\n",
    "m"
   ]
  },
  {
   "cell_type": "code",
   "execution_count": null,
   "metadata": {},
   "outputs": [],
   "source": []
  }
 ],
 "metadata": {
  "kernelspec": {
   "display_name": "Python 3",
   "language": "python",
   "name": "python3"
  },
  "language_info": {
   "codemirror_mode": {
    "name": "ipython",
    "version": 3
   },
   "file_extension": ".py",
   "mimetype": "text/x-python",
   "name": "python",
   "nbconvert_exporter": "python",
   "pygments_lexer": "ipython3",
   "version": "3.7.6"
  }
 },
 "nbformat": 4,
 "nbformat_minor": 4
}
