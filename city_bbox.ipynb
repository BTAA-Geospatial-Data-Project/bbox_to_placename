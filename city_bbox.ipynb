{
 "cells": [
  {
   "cell_type": "markdown",
   "metadata": {},
   "source": [
    "# Converting City GeoJSON into Regular Bounding Box"
   ]
  },
  {
   "cell_type": "markdown",
   "metadata": {},
   "source": [
    "## Part 1: Introduction"
   ]
  },
  {
   "cell_type": "markdown",
   "metadata": {},
   "source": [
    "This Jupyter Notebook is intended to create city bounding box based on county GeoJSON/Shapefile."
   ]
  },
  {
   "cell_type": "markdown",
   "metadata": {},
   "source": [
    "## Part 2: Preparation"
   ]
  },
  {
   "cell_type": "markdown",
   "metadata": {},
   "source": [
    "We will be using **Jupyter Notebook(anaconda 3)** to edit and run the script. Information on Anaconda installation can be found <a href='https://docs.anaconda.com/anaconda/install/'>here</a>. Please note that this script is running on Python 3.\n",
    "\n",
    "***Usually, You can download city boundary GeoJSON file from state data portal, which typically is ArcGIS Hub.***\n",
    "\n",
    "To run this script you need:\n",
    "- county GeoJSON/Shapefile stored in **state** folder\n",
    "- directory path (**geojson** folder > **state** folder)\n",
    "\n",
    "The script currently prints one GeoJSON file:\n",
    "- **state_City_bbox.json**\n",
    "\n",
    ">Original created on Feb 4 2021<br>\n",
    "@author: Yijing Zhou @YijingZhou33"
   ]
  },
  {
   "cell_type": "markdown",
   "metadata": {},
   "source": [
    "## Part 3: Get Started"
   ]
  },
  {
   "cell_type": "markdown",
   "metadata": {},
   "source": [
    "###  Step 1: Import modules"
   ]
  },
  {
   "cell_type": "code",
   "execution_count": null,
   "metadata": {},
   "outputs": [],
   "source": [
    "import pandas as pd\n",
    "import os\n",
    "import geopandas as gpd\n",
    "import json\n",
    "from itertools import chain\n",
    "import string\n",
    "import folium"
   ]
  },
  {
   "cell_type": "markdown",
   "metadata": {},
   "source": [
    "### Step 2: Manual items to change"
   ]
  },
  {
   "cell_type": "code",
   "execution_count": null,
   "metadata": {},
   "outputs": [],
   "source": [
    "state = 'District of Columbia'\n",
    "\n",
    "###### Rawdata is Shapefile ######\n",
    "# rawdata = ''\n",
    "\n",
    "###### Rawdata is GeoJSON ######\n",
    "rawdata = 'Washington_DC_Boundary'\n",
    "\n",
    "output = os.path.join('geojson', state, state + '_City_bbox.json')"
   ]
  },
  {
   "cell_type": "markdown",
   "metadata": {},
   "source": [
    "## Part 4: Build up city GeoJSON schema"
   ]
  },
  {
   "cell_type": "markdown",
   "metadata": {},
   "source": [
    "###  Step 3: Convert GeoJSON/Shapefile to JSON"
   ]
  },
  {
   "cell_type": "code",
   "execution_count": null,
   "metadata": {},
   "outputs": [],
   "source": [
    "def conversion(inputfile):\n",
    "    ## convert file to json \n",
    "    inputfile = json.loads(inputfile.to_json())\n",
    "    ## display features properties as dataframe\n",
    "    df = pd.json_normalize(inputfile['features'])\n",
    "    return df\n",
    "\n",
    "###### Rawdata is Shapefile ######\n",
    "\n",
    "# **************** uncomment **********************\n",
    "# shp = os.path.join('geojson', state, rawdata)\n",
    "# city_shp = gpd.read_file(shp, driver = 'shapefile').to_crs('EPSG:4326')\n",
    "# df = conversion(city_shp)\n",
    "# *************************************************\n",
    "\n",
    "###### Rawdata is GeoJSON ######\n",
    "\n",
    "# **************** uncomment **********************\n",
    "geojson = os.path.join('geojson', state, rawdata + '.geojson')\n",
    "city_geojson = gpd.read_file(geojson).to_crs('EPSG:4326')\n",
    "df = conversion(city_geojson)\n",
    "# *************************************************\n",
    "\n",
    "df"
   ]
  },
  {
   "cell_type": "markdown",
   "metadata": {},
   "source": [
    "### Step 4: Clean up and format columns\n",
    "> Note that we need to extract features related to city. Uncomment one of the following blocks depending on attributes in the dataframe above. "
   ]
  },
  {
   "cell_type": "code",
   "execution_count": null,
   "metadata": {},
   "outputs": [],
   "source": [
    "def extract_keyword(name):\n",
    "    if name == 'type':\n",
    "        return input(f'Please enter the city class name: ').strip()\n",
    "    else:\n",
    "        return input(f'Please enter the column storing {name} name: ').strip()"
   ]
  },
  {
   "cell_type": "code",
   "execution_count": null,
   "metadata": {},
   "outputs": [],
   "source": [
    "###### Dataframe includes 'County Name', 'City Name', 'Type' ######\n",
    "\n",
    "# **************** uncomment **********************\n",
    "# def rename(df):\n",
    "#     countyname = extract_keyword('county')\n",
    "#     cityname = extract_keyword('city')\n",
    "#     classname = extract_keyword('class')\n",
    "#     citytype = extract_keyword('type')\n",
    "#     df = df[df[classname] == citytype]\n",
    "#     df = df[[cityname, countyname, 'geometry.coordinates']].rename(\n",
    "#             columns={cityname:'City', countyname:'County', 'geometry.coordinates':'boundingBox'})   \n",
    "#     df = df[[cityname, 'geometry.coordinates']].rename(\n",
    "#             columns={cityname:'City', 'geometry.coordinates':'boundingBox'})   \n",
    "#     ## capitalize the first letter of each word\n",
    "#     df['City'] = df['City'].apply(lambda row: string.capwords(str(row)))\n",
    "#     df['County'] = df['County'].apply(lambda row: string.capwords(str(row)))\n",
    "#     df['State'] = state \n",
    "\n",
    "#     return df\n",
    "# *************************************************\n",
    "\n",
    "\n",
    "\n",
    "###### Dataframe includes 'City Name', 'Type' ######\n",
    "\n",
    "# **************** uncomment **********************\n",
    "# def rename(df):\n",
    "#     cityname = extract_keyword('city')\n",
    "#     citytype = extract_keyword('type')\n",
    "#     classname = extract_keyword('class')\n",
    "#     df = df[df[classname] == citytype]\n",
    "#     df = df[[cityname, 'geometry.coordinates']].rename(\n",
    "#             columns={cityname:'City', 'geometry.coordinates':'boundingBox'})   \n",
    "#     ## capitalize the first letter of each word\n",
    "#     df['City'] = df['City'].apply(lambda row: string.capwords(str(row)))\n",
    "#     df['State'] = state  \n",
    "\n",
    "#     return df\n",
    "# *************************************************\n",
    "\n",
    "\n",
    "\n",
    "###### Dataframe includes 'City Name' ######\n",
    "\n",
    "# **************** uncomment **********************\n",
    "# def rename(df):\n",
    "#     cityname = extract_keyword('city')\n",
    "#     df = df[[cityname, 'geometry.coordinates']].rename(\n",
    "#             columns={cityname:'City', 'geometry.coordinates':'boundingBox'})   \n",
    "#     ## capitalize the first letter of each word\n",
    "#     df['City'] = df['City'].apply(lambda row: string.capwords(str(row)))\n",
    "#     df['State'] = state\n",
    "    \n",
    "#     return df\n",
    "# *************************************************\n",
    "\n",
    "df = rename(df)"
   ]
  },
  {
   "cell_type": "markdown",
   "metadata": {},
   "source": [
    "###  Step 5: Create bounding box"
   ]
  },
  {
   "cell_type": "code",
   "execution_count": null,
   "metadata": {},
   "outputs": [],
   "source": [
    "def bbox(points):\n",
    "    x_coordinates, y_coordinates = zip(*points)\n",
    "    return ','.join(str(x) for x in [min(x_coordinates), min(y_coordinates), max(x_coordinates), max(y_coordinates)])\n",
    "\n",
    "def coordinates_bbox(df):\n",
    "    for _, row in df.iterrows():\n",
    "        ## geometry is Polygon\n",
    "        if type(row['boundingBox'][0][0][0]) is float:\n",
    "            row['boundingBox'] = bbox(row['boundingBox'][0])\n",
    "        else:\n",
    "        ## geometry is Multipolygon\n",
    "            row['boundingBox'] = bbox(list(chain.from_iterable([l[0] for l in row['boundingBox']])))\n",
    "            \n",
    "coordinates_bbox(df)"
   ]
  },
  {
   "cell_type": "markdown",
   "metadata": {},
   "source": [
    "###  Step 6: Round coordinates to 2 decimal places"
   ]
  },
  {
   "cell_type": "code",
   "execution_count": null,
   "metadata": {},
   "outputs": [],
   "source": [
    "## create regular bouding box coordinate pairs and round them to 2 decimal places\n",
    "df = pd.concat([df, df['boundingBox'].str.split(',', expand=True).astype(float).round(2)], axis=1).rename(\n",
    "    columns={0:'minX', 1:'minY', 2:'maxX', 3:'maxY'})\n",
    "df['maxXmaxY'] = df.apply(lambda row: [row.maxX, row.maxY], axis = 1)\n",
    "df['maxXminY'] = df.apply(lambda row: [row.maxX, row.minY], axis = 1)\n",
    "df['minXminY'] = df.apply(lambda row: [row.minX, row.minY], axis = 1)\n",
    "df['minXmaxY'] = df.apply(lambda row: [row.minX, row.maxY], axis = 1)\n",
    "df['Coordinates'] = df[['maxXmaxY', 'maxXminY', 'minXminY', 'minXmaxY', 'maxXmaxY']].values.tolist()\n",
    "\n",
    "## clean up unnecessary columns\n",
    "df_clean = df.drop(columns =['minX', 'minY', 'maxX', 'maxY', 'maxXmaxY', 'maxXminY', 'minXminY', 'minXmaxY', 'boundingBox'])"
   ]
  },
  {
   "cell_type": "markdown",
   "metadata": {},
   "source": [
    "## Part 5: Create County GeoJSON"
   ]
  },
  {
   "cell_type": "markdown",
   "metadata": {},
   "source": [
    "###  Step 7: Create geojson features\n",
    "> Uncomment one of the following blocks. "
   ]
  },
  {
   "cell_type": "code",
   "execution_count": null,
   "metadata": {
    "scrolled": true
   },
   "outputs": [],
   "source": [
    "###### Dataframe includes 'City' and 'County' ######\n",
    "\n",
    "# **************** uncomment **********************\n",
    "# def create_geojson_features(df):\n",
    "#     print('> Creating GeoJSON features...')\n",
    "#     features = []\n",
    "#     geojson = {\n",
    "#         'type': 'FeatureCollection',\n",
    "#         'features': features\n",
    "#     }\n",
    "#     for _, row in df.iterrows():\n",
    "#         feature = {\n",
    "#             'type': 'Feature',\n",
    "#             'geometry': {\n",
    "#                 'type':'Polygon', \n",
    "#                 'coordinates':[row['Coordinates']]\n",
    "#             },\n",
    "#             'properties': {\n",
    "#                 'City': 'City of ' + row['City'],\n",
    "#                 'County': row['County'] + ' County',\n",
    "#                 'State': row['State']\n",
    "#             }\n",
    "#         }\n",
    "\n",
    "#         features.append(feature)\n",
    "#     return geojson\n",
    "# *************************************************\n",
    "\n",
    "\n",
    "\n",
    "###### Dataframe includes 'City' ######\n",
    "\n",
    "# **************** uncomment **********************\n",
    "def create_geojson_features(df):\n",
    "    print('> Creating GeoJSON features...')\n",
    "    features = []\n",
    "    geojson = {\n",
    "        'type': 'FeatureCollection',\n",
    "        'features': features\n",
    "    }\n",
    "    for _, row in df.iterrows():\n",
    "        feature = {\n",
    "            'type': 'Feature',\n",
    "            'geometry': {\n",
    "                'type':'Polygon', \n",
    "                'coordinates':[row['Coordinates']]\n",
    "            },\n",
    "            'properties': {\n",
    "                'City': row['City'],\n",
    "                'State': row['State']\n",
    "            }\n",
    "        }\n",
    "\n",
    "        features.append(feature)\n",
    "    return geojson\n",
    "# *************************************************\n",
    "\n",
    "data_geojson = create_geojson_features(df_clean)"
   ]
  },
  {
   "cell_type": "markdown",
   "metadata": {},
   "source": [
    "###  Step 8: Generate geojson file"
   ]
  },
  {
   "cell_type": "code",
   "execution_count": null,
   "metadata": {
    "scrolled": true
   },
   "outputs": [],
   "source": [
    "with open(output, 'w') as txtfile:\n",
    "    json.dump(data_geojson, txtfile)\n",
    "print('> Creating GeoJSON file...')"
   ]
  },
  {
   "cell_type": "markdown",
   "metadata": {},
   "source": [
    "## Part 6: Inspect bounding box map"
   ]
  },
  {
   "cell_type": "code",
   "execution_count": null,
   "metadata": {},
   "outputs": [],
   "source": [
    "print('> Making map...')\n",
    "## change the location here to zoom to the center\n",
    "m = folium.Map(location = [42.3756, -93.6397], control_scale = True, zoom_start = 5)\n",
    "\n",
    "## check if the indexmap geojson files can be rendered properly\n",
    "\n",
    "\n",
    "###### Dataframe includes 'City' and 'County' ######\n",
    "\n",
    "# **************** uncomment **********************\n",
    "# folium.GeoJson(data_geojson, \n",
    "#                tooltip = folium.GeoJsonTooltip(fields=('City', 'County', 'State'),\n",
    "#                aliases=('City', 'County', 'State')),\n",
    "#                show = True).add_to(m)\n",
    "# *************************************************\n",
    "\n",
    "\n",
    "\n",
    "###### Dataframe includes 'City' ######\n",
    "\n",
    "# **************** uncomment **********************\n",
    "folium.GeoJson(data_geojson, \n",
    "               tooltip = folium.GeoJsonTooltip(fields=('City', 'State'),\n",
    "               aliases=('City', 'State')),\n",
    "               show = True).add_to(m)\n",
    "# *************************************************\n",
    "\n",
    "m"
   ]
  },
  {
   "cell_type": "code",
   "execution_count": null,
   "metadata": {},
   "outputs": [],
   "source": []
  }
 ],
 "metadata": {
  "kernelspec": {
   "display_name": "Python 3",
   "language": "python",
   "name": "python3"
  },
  "language_info": {
   "codemirror_mode": {
    "name": "ipython",
    "version": 3
   },
   "file_extension": ".py",
   "mimetype": "text/x-python",
   "name": "python",
   "nbconvert_exporter": "python",
   "pygments_lexer": "ipython3",
   "version": "3.7.6"
  }
 },
 "nbformat": 4,
 "nbformat_minor": 4
}
